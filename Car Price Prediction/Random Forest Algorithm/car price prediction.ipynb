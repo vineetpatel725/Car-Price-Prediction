{
 "cells": [
  {
   "cell_type": "markdown",
   "id": "51fa8315",
   "metadata": {},
   "source": [
    "# Car Price Prediction\n",
    "#### Using Random Forest Regression"
   ]
  },
  {
   "cell_type": "markdown",
   "id": "2086bb6f",
   "metadata": {},
   "source": [
    "## Importing Libraries"
   ]
  },
  {
   "cell_type": "code",
   "execution_count": 1,
   "id": "7918f1d2",
   "metadata": {},
   "outputs": [],
   "source": [
    "import numpy as np\n",
    "import pandas as pd"
   ]
  },
  {
   "cell_type": "markdown",
   "id": "2025280e",
   "metadata": {},
   "source": [
    "## Importing the Dataset"
   ]
  },
  {
   "cell_type": "code",
   "execution_count": 2,
   "id": "e0912d1c",
   "metadata": {},
   "outputs": [
    {
     "data": {
      "text/html": [
       "<div>\n",
       "<style scoped>\n",
       "    .dataframe tbody tr th:only-of-type {\n",
       "        vertical-align: middle;\n",
       "    }\n",
       "\n",
       "    .dataframe tbody tr th {\n",
       "        vertical-align: top;\n",
       "    }\n",
       "\n",
       "    .dataframe thead th {\n",
       "        text-align: right;\n",
       "    }\n",
       "</style>\n",
       "<table border=\"1\" class=\"dataframe\">\n",
       "  <thead>\n",
       "    <tr style=\"text-align: right;\">\n",
       "      <th></th>\n",
       "      <th>car_ID</th>\n",
       "      <th>symboling</th>\n",
       "      <th>CarName</th>\n",
       "      <th>fueltype</th>\n",
       "      <th>aspiration</th>\n",
       "      <th>doornumber</th>\n",
       "      <th>carbody</th>\n",
       "      <th>drivewheel</th>\n",
       "      <th>enginelocation</th>\n",
       "      <th>wheelbase</th>\n",
       "      <th>...</th>\n",
       "      <th>enginesize</th>\n",
       "      <th>fuelsystem</th>\n",
       "      <th>boreratio</th>\n",
       "      <th>stroke</th>\n",
       "      <th>compressionratio</th>\n",
       "      <th>horsepower</th>\n",
       "      <th>peakrpm</th>\n",
       "      <th>citympg</th>\n",
       "      <th>highwaympg</th>\n",
       "      <th>price</th>\n",
       "    </tr>\n",
       "  </thead>\n",
       "  <tbody>\n",
       "    <tr>\n",
       "      <th>0</th>\n",
       "      <td>1</td>\n",
       "      <td>3</td>\n",
       "      <td>alfa-romero giulia</td>\n",
       "      <td>gas</td>\n",
       "      <td>std</td>\n",
       "      <td>two</td>\n",
       "      <td>convertible</td>\n",
       "      <td>rwd</td>\n",
       "      <td>front</td>\n",
       "      <td>88.6</td>\n",
       "      <td>...</td>\n",
       "      <td>130</td>\n",
       "      <td>mpfi</td>\n",
       "      <td>3.47</td>\n",
       "      <td>2.68</td>\n",
       "      <td>9.0</td>\n",
       "      <td>111</td>\n",
       "      <td>5000</td>\n",
       "      <td>21</td>\n",
       "      <td>27</td>\n",
       "      <td>13495.0</td>\n",
       "    </tr>\n",
       "    <tr>\n",
       "      <th>1</th>\n",
       "      <td>2</td>\n",
       "      <td>3</td>\n",
       "      <td>alfa-romero stelvio</td>\n",
       "      <td>gas</td>\n",
       "      <td>std</td>\n",
       "      <td>two</td>\n",
       "      <td>convertible</td>\n",
       "      <td>rwd</td>\n",
       "      <td>front</td>\n",
       "      <td>88.6</td>\n",
       "      <td>...</td>\n",
       "      <td>130</td>\n",
       "      <td>mpfi</td>\n",
       "      <td>3.47</td>\n",
       "      <td>2.68</td>\n",
       "      <td>9.0</td>\n",
       "      <td>111</td>\n",
       "      <td>5000</td>\n",
       "      <td>21</td>\n",
       "      <td>27</td>\n",
       "      <td>16500.0</td>\n",
       "    </tr>\n",
       "    <tr>\n",
       "      <th>2</th>\n",
       "      <td>3</td>\n",
       "      <td>1</td>\n",
       "      <td>alfa-romero Quadrifoglio</td>\n",
       "      <td>gas</td>\n",
       "      <td>std</td>\n",
       "      <td>two</td>\n",
       "      <td>hatchback</td>\n",
       "      <td>rwd</td>\n",
       "      <td>front</td>\n",
       "      <td>94.5</td>\n",
       "      <td>...</td>\n",
       "      <td>152</td>\n",
       "      <td>mpfi</td>\n",
       "      <td>2.68</td>\n",
       "      <td>3.47</td>\n",
       "      <td>9.0</td>\n",
       "      <td>154</td>\n",
       "      <td>5000</td>\n",
       "      <td>19</td>\n",
       "      <td>26</td>\n",
       "      <td>16500.0</td>\n",
       "    </tr>\n",
       "    <tr>\n",
       "      <th>3</th>\n",
       "      <td>4</td>\n",
       "      <td>2</td>\n",
       "      <td>audi 100 ls</td>\n",
       "      <td>gas</td>\n",
       "      <td>std</td>\n",
       "      <td>four</td>\n",
       "      <td>sedan</td>\n",
       "      <td>fwd</td>\n",
       "      <td>front</td>\n",
       "      <td>99.8</td>\n",
       "      <td>...</td>\n",
       "      <td>109</td>\n",
       "      <td>mpfi</td>\n",
       "      <td>3.19</td>\n",
       "      <td>3.40</td>\n",
       "      <td>10.0</td>\n",
       "      <td>102</td>\n",
       "      <td>5500</td>\n",
       "      <td>24</td>\n",
       "      <td>30</td>\n",
       "      <td>13950.0</td>\n",
       "    </tr>\n",
       "    <tr>\n",
       "      <th>4</th>\n",
       "      <td>5</td>\n",
       "      <td>2</td>\n",
       "      <td>audi 100ls</td>\n",
       "      <td>gas</td>\n",
       "      <td>std</td>\n",
       "      <td>four</td>\n",
       "      <td>sedan</td>\n",
       "      <td>4wd</td>\n",
       "      <td>front</td>\n",
       "      <td>99.4</td>\n",
       "      <td>...</td>\n",
       "      <td>136</td>\n",
       "      <td>mpfi</td>\n",
       "      <td>3.19</td>\n",
       "      <td>3.40</td>\n",
       "      <td>8.0</td>\n",
       "      <td>115</td>\n",
       "      <td>5500</td>\n",
       "      <td>18</td>\n",
       "      <td>22</td>\n",
       "      <td>17450.0</td>\n",
       "    </tr>\n",
       "  </tbody>\n",
       "</table>\n",
       "<p>5 rows × 26 columns</p>\n",
       "</div>"
      ],
      "text/plain": [
       "   car_ID  symboling                   CarName fueltype aspiration doornumber  \\\n",
       "0       1          3        alfa-romero giulia      gas        std        two   \n",
       "1       2          3       alfa-romero stelvio      gas        std        two   \n",
       "2       3          1  alfa-romero Quadrifoglio      gas        std        two   \n",
       "3       4          2               audi 100 ls      gas        std       four   \n",
       "4       5          2                audi 100ls      gas        std       four   \n",
       "\n",
       "       carbody drivewheel enginelocation  wheelbase  ...  enginesize  \\\n",
       "0  convertible        rwd          front       88.6  ...         130   \n",
       "1  convertible        rwd          front       88.6  ...         130   \n",
       "2    hatchback        rwd          front       94.5  ...         152   \n",
       "3        sedan        fwd          front       99.8  ...         109   \n",
       "4        sedan        4wd          front       99.4  ...         136   \n",
       "\n",
       "   fuelsystem  boreratio  stroke compressionratio horsepower  peakrpm citympg  \\\n",
       "0        mpfi       3.47    2.68              9.0        111     5000      21   \n",
       "1        mpfi       3.47    2.68              9.0        111     5000      21   \n",
       "2        mpfi       2.68    3.47              9.0        154     5000      19   \n",
       "3        mpfi       3.19    3.40             10.0        102     5500      24   \n",
       "4        mpfi       3.19    3.40              8.0        115     5500      18   \n",
       "\n",
       "   highwaympg    price  \n",
       "0          27  13495.0  \n",
       "1          27  16500.0  \n",
       "2          26  16500.0  \n",
       "3          30  13950.0  \n",
       "4          22  17450.0  \n",
       "\n",
       "[5 rows x 26 columns]"
      ]
     },
     "execution_count": 2,
     "metadata": {},
     "output_type": "execute_result"
    }
   ],
   "source": [
    "dataset = pd.read_csv('Car Price.csv')\n",
    "dataset.head()"
   ]
  },
  {
   "cell_type": "code",
   "execution_count": 3,
   "id": "9ed76e10",
   "metadata": {
    "scrolled": false
   },
   "outputs": [
    {
     "name": "stdout",
     "output_type": "stream",
     "text": [
      "<class 'pandas.core.frame.DataFrame'>\n",
      "RangeIndex: 205 entries, 0 to 204\n",
      "Data columns (total 26 columns):\n",
      " #   Column            Non-Null Count  Dtype  \n",
      "---  ------            --------------  -----  \n",
      " 0   car_ID            205 non-null    int64  \n",
      " 1   symboling         205 non-null    int64  \n",
      " 2   CarName           205 non-null    object \n",
      " 3   fueltype          205 non-null    object \n",
      " 4   aspiration        205 non-null    object \n",
      " 5   doornumber        205 non-null    object \n",
      " 6   carbody           205 non-null    object \n",
      " 7   drivewheel        205 non-null    object \n",
      " 8   enginelocation    205 non-null    object \n",
      " 9   wheelbase         205 non-null    float64\n",
      " 10  carlength         205 non-null    float64\n",
      " 11  carwidth          205 non-null    float64\n",
      " 12  carheight         205 non-null    float64\n",
      " 13  curbweight        205 non-null    int64  \n",
      " 14  enginetype        205 non-null    object \n",
      " 15  cylindernumber    205 non-null    object \n",
      " 16  enginesize        205 non-null    int64  \n",
      " 17  fuelsystem        205 non-null    object \n",
      " 18  boreratio         205 non-null    float64\n",
      " 19  stroke            205 non-null    float64\n",
      " 20  compressionratio  205 non-null    float64\n",
      " 21  horsepower        205 non-null    int64  \n",
      " 22  peakrpm           205 non-null    int64  \n",
      " 23  citympg           205 non-null    int64  \n",
      " 24  highwaympg        205 non-null    int64  \n",
      " 25  price             205 non-null    float64\n",
      "dtypes: float64(8), int64(8), object(10)\n",
      "memory usage: 41.8+ KB\n"
     ]
    }
   ],
   "source": [
    "dataset.info()"
   ]
  },
  {
   "cell_type": "markdown",
   "id": "921227f5",
   "metadata": {},
   "source": [
    "## Counting the values of Categorial Data"
   ]
  },
  {
   "cell_type": "code",
   "execution_count": 4,
   "id": "b2fdf92b",
   "metadata": {},
   "outputs": [
    {
     "data": {
      "text/plain": [
       "gas       185\n",
       "diesel     20\n",
       "Name: fueltype, dtype: int64"
      ]
     },
     "execution_count": 4,
     "metadata": {},
     "output_type": "execute_result"
    }
   ],
   "source": [
    "dataset['fueltype'].value_counts()"
   ]
  },
  {
   "cell_type": "code",
   "execution_count": 5,
   "id": "966d8f91",
   "metadata": {},
   "outputs": [
    {
     "data": {
      "text/plain": [
       "std      168\n",
       "turbo     37\n",
       "Name: aspiration, dtype: int64"
      ]
     },
     "execution_count": 5,
     "metadata": {},
     "output_type": "execute_result"
    }
   ],
   "source": [
    "dataset['aspiration'].value_counts()"
   ]
  },
  {
   "cell_type": "code",
   "execution_count": 6,
   "id": "898e9a6b",
   "metadata": {},
   "outputs": [
    {
     "data": {
      "text/plain": [
       "four    115\n",
       "two      90\n",
       "Name: doornumber, dtype: int64"
      ]
     },
     "execution_count": 6,
     "metadata": {},
     "output_type": "execute_result"
    }
   ],
   "source": [
    "dataset['doornumber'].value_counts()"
   ]
  },
  {
   "cell_type": "code",
   "execution_count": 7,
   "id": "e2fee669",
   "metadata": {},
   "outputs": [
    {
     "data": {
      "text/plain": [
       "sedan          96\n",
       "hatchback      70\n",
       "wagon          25\n",
       "hardtop         8\n",
       "convertible     6\n",
       "Name: carbody, dtype: int64"
      ]
     },
     "execution_count": 7,
     "metadata": {},
     "output_type": "execute_result"
    }
   ],
   "source": [
    "dataset['carbody'].value_counts()"
   ]
  },
  {
   "cell_type": "code",
   "execution_count": 8,
   "id": "b5d60e71",
   "metadata": {},
   "outputs": [
    {
     "data": {
      "text/plain": [
       "fwd    120\n",
       "rwd     76\n",
       "4wd      9\n",
       "Name: drivewheel, dtype: int64"
      ]
     },
     "execution_count": 8,
     "metadata": {},
     "output_type": "execute_result"
    }
   ],
   "source": [
    "dataset['drivewheel'].value_counts()"
   ]
  },
  {
   "cell_type": "code",
   "execution_count": 9,
   "id": "ff23b553",
   "metadata": {},
   "outputs": [
    {
     "data": {
      "text/plain": [
       "front    202\n",
       "rear       3\n",
       "Name: enginelocation, dtype: int64"
      ]
     },
     "execution_count": 9,
     "metadata": {},
     "output_type": "execute_result"
    }
   ],
   "source": [
    "dataset['enginelocation'].value_counts()"
   ]
  },
  {
   "cell_type": "code",
   "execution_count": 10,
   "id": "9c71aa2a",
   "metadata": {},
   "outputs": [
    {
     "data": {
      "text/plain": [
       "ohc      148\n",
       "ohcf      15\n",
       "ohcv      13\n",
       "l         12\n",
       "dohc      12\n",
       "rotor      4\n",
       "dohcv      1\n",
       "Name: enginetype, dtype: int64"
      ]
     },
     "execution_count": 10,
     "metadata": {},
     "output_type": "execute_result"
    }
   ],
   "source": [
    "dataset['enginetype'].value_counts()"
   ]
  },
  {
   "cell_type": "code",
   "execution_count": 11,
   "id": "4b8c39f6",
   "metadata": {},
   "outputs": [
    {
     "data": {
      "text/plain": [
       "four      159\n",
       "six        24\n",
       "five       11\n",
       "eight       5\n",
       "two         4\n",
       "three       1\n",
       "twelve      1\n",
       "Name: cylindernumber, dtype: int64"
      ]
     },
     "execution_count": 11,
     "metadata": {},
     "output_type": "execute_result"
    }
   ],
   "source": [
    "dataset['cylindernumber'].value_counts()"
   ]
  },
  {
   "cell_type": "code",
   "execution_count": 12,
   "id": "a265b604",
   "metadata": {},
   "outputs": [
    {
     "data": {
      "text/plain": [
       "mpfi    94\n",
       "2bbl    66\n",
       "idi     20\n",
       "1bbl    11\n",
       "spdi     9\n",
       "4bbl     3\n",
       "mfi      1\n",
       "spfi     1\n",
       "Name: fuelsystem, dtype: int64"
      ]
     },
     "execution_count": 12,
     "metadata": {},
     "output_type": "execute_result"
    }
   ],
   "source": [
    "dataset['fuelsystem'].value_counts()"
   ]
  },
  {
   "cell_type": "markdown",
   "id": "54757cb1",
   "metadata": {},
   "source": [
    "## Selecting the data(columns)"
   ]
  },
  {
   "cell_type": "code",
   "execution_count": 13,
   "id": "c8e70b4d",
   "metadata": {},
   "outputs": [],
   "source": [
    "x = dataset.iloc[:,3:25].values\n",
    "y = dataset.iloc[:,25].values"
   ]
  },
  {
   "cell_type": "code",
   "execution_count": 14,
   "id": "245a56e9",
   "metadata": {},
   "outputs": [
    {
     "name": "stdout",
     "output_type": "stream",
     "text": [
      "[['gas' 'std' 'two' ... 5000 21 27]\n",
      " ['gas' 'std' 'two' ... 5000 21 27]\n",
      " ['gas' 'std' 'two' ... 5000 19 26]\n",
      " ...\n",
      " ['gas' 'std' 'four' ... 5500 18 23]\n",
      " ['diesel' 'turbo' 'four' ... 4800 26 27]\n",
      " ['gas' 'turbo' 'four' ... 5400 19 25]]\n",
      "[13495.    16500.    16500.    13950.    17450.    15250.    17710.\n",
      " 18920.    23875.    17859.167 16430.    16925.    20970.    21105.\n",
      " 24565.    30760.    41315.    36880.     5151.     6295.     6575.\n",
      "  5572.     6377.     7957.     6229.     6692.     7609.     8558.\n",
      "  8921.    12964.     6479.     6855.     5399.     6529.     7129.\n",
      "  7295.     7295.     7895.     9095.     8845.    10295.    12945.\n",
      " 10345.     6785.     8916.5    8916.5   11048.    32250.    35550.\n",
      " 36000.     5195.     6095.     6795.     6695.     7395.    10945.\n",
      " 11845.    13645.    15645.     8845.     8495.    10595.    10245.\n",
      " 10795.    11245.    18280.    18344.    25552.    28248.    28176.\n",
      " 31600.    34184.    35056.    40960.    45400.    16503.     5389.\n",
      "  6189.     6669.     7689.     9959.     8499.    12629.    14869.\n",
      " 14489.     6989.     8189.     9279.     9279.     5499.     7099.\n",
      "  6649.     6849.     7349.     7299.     7799.     7499.     7999.\n",
      "  8249.     8949.     9549.    13499.    14399.    13499.    17199.\n",
      " 19699.    18399.    11900.    13200.    12440.    13860.    15580.\n",
      " 16900.    16695.    17075.    16630.    17950.    18150.     5572.\n",
      "  7957.     6229.     6692.     7609.     8921.    12764.    22018.\n",
      " 32528.    34028.    37028.    31400.5    9295.     9895.    11850.\n",
      " 12170.    15040.    15510.    18150.    18620.     5118.     7053.\n",
      "  7603.     7126.     7775.     9960.     9233.    11259.     7463.\n",
      " 10198.     8013.    11694.     5348.     6338.     6488.     6918.\n",
      "  7898.     8778.     6938.     7198.     7898.     7788.     7738.\n",
      "  8358.     9258.     8058.     8238.     9298.     9538.     8449.\n",
      "  9639.     9989.    11199.    11549.    17669.     8948.    10698.\n",
      "  9988.    10898.    11248.    16558.    15998.    15690.    15750.\n",
      "  7775.     7975.     7995.     8195.     8495.     9495.     9995.\n",
      " 11595.     9980.    13295.    13845.    12290.    12940.    13415.\n",
      " 15985.    16515.    18420.    18950.    16845.    19045.    21485.\n",
      " 22470.    22625.   ]\n"
     ]
    }
   ],
   "source": [
    "print(x)\n",
    "print(y)"
   ]
  },
  {
   "cell_type": "markdown",
   "id": "69a1292a",
   "metadata": {},
   "source": [
    "## Encoding Variables"
   ]
  },
  {
   "cell_type": "code",
   "execution_count": 15,
   "id": "52dc8666",
   "metadata": {},
   "outputs": [],
   "source": [
    "from sklearn.preprocessing import LabelEncoder\n",
    "\n",
    "lb_fueltype = LabelEncoder()\n",
    "x[:,0] = lb_fueltype.fit_transform(x[:,0])\n",
    "\n",
    "lb_aspiration = LabelEncoder()\n",
    "x[:,1] = lb_aspiration.fit_transform(x[:,1])\n",
    "\n",
    "lb_doornumber = LabelEncoder()\n",
    "x[:,2] = lb_doornumber.fit_transform(x[:,2])\n",
    "\n",
    "lb_carbody = LabelEncoder()\n",
    "x[:,3] = lb_carbody.fit_transform(x[:,3])\n",
    "\n",
    "lb_drivewheel = LabelEncoder()\n",
    "x[:,4] = lb_drivewheel.fit_transform(x[:,4])\n",
    "\n",
    "lb_enginelocation = LabelEncoder()\n",
    "x[:,5] = lb_enginelocation.fit_transform(x[:,5])\n",
    "\n",
    "lb_enginetype = LabelEncoder()\n",
    "x[:,11] = lb_enginetype.fit_transform(x[:,11])\n",
    "\n",
    "lb_cylindernumber = LabelEncoder()\n",
    "x[:,12] = lb_cylindernumber.fit_transform(x[:,12])\n",
    "\n",
    "lb_fuelsystem = LabelEncoder()\n",
    "x[:,14] = lb_fuelsystem.fit_transform(x[:,14])"
   ]
  },
  {
   "cell_type": "code",
   "execution_count": 16,
   "id": "e747576a",
   "metadata": {},
   "outputs": [
    {
     "data": {
      "text/plain": [
       "(205, 22)"
      ]
     },
     "execution_count": 16,
     "metadata": {},
     "output_type": "execute_result"
    }
   ],
   "source": [
    "x.shape"
   ]
  },
  {
   "cell_type": "markdown",
   "id": "4e38983c",
   "metadata": {},
   "source": [
    "## Splitting the dataset into Train & Test"
   ]
  },
  {
   "cell_type": "code",
   "execution_count": 17,
   "id": "7d5e03e0",
   "metadata": {},
   "outputs": [],
   "source": [
    "from sklearn.model_selection import train_test_split\n",
    "x_train, x_test, y_train, y_test = train_test_split(x, y, test_size=1/3, random_state=0)"
   ]
  },
  {
   "cell_type": "code",
   "execution_count": 18,
   "id": "3476c4fc",
   "metadata": {},
   "outputs": [
    {
     "name": "stdout",
     "output_type": "stream",
     "text": [
      "[[1 0 0 ... 5200 31 37]\n",
      " [1 0 0 ... 5000 31 38]\n",
      " [0 0 0 ... 4800 37 46]\n",
      " ...\n",
      " [1 1 0 ... 5600 18 24]\n",
      " [1 0 0 ... 4750 15 19]\n",
      " [1 0 1 ... 4800 24 30]]\n",
      "[[1 0 1 ... 5000 31 38]\n",
      " [1 0 0 ... 5200 19 24]\n",
      " [1 0 1 ... 5500 19 25]\n",
      " ...\n",
      " [1 0 0 ... 5000 25 32]\n",
      " [1 0 1 ... 5400 38 43]\n",
      " [1 0 0 ... 4800 27 32]]\n"
     ]
    }
   ],
   "source": [
    "print(x_train)\n",
    "print(x_test)"
   ]
  },
  {
   "cell_type": "code",
   "execution_count": 19,
   "id": "1a687652",
   "metadata": {},
   "outputs": [
    {
     "name": "stdout",
     "output_type": "stream",
     "text": [
      "[ 7999.     7395.     7995.     6095.     7053.     7126.    16900.\n",
      "  7499.    11900.     7463.    13860.    16558.    24565.     8558.\n",
      " 13200.     8195.    32528.    11048.    13295.    16845.     9258.\n",
      " 10245.    16500.     8845.     8921.    12764.     6785.    16430.\n",
      " 12440.    40960.    15985.     7775.     5348.     8249.    13950.\n",
      "  7349.     5572.     7738.    18950.     5195.    13495.     7299.\n",
      " 17950.     7799.    11245.     9233.    12945.    28176.    36000.\n",
      " 35550.     6989.    21485.    21105.     6918.     7957.     9980.\n",
      " 18620.     6575.    30760.     6669.     9549.     9538.    22470.\n",
      " 17710.    28248.    14489.     6692.     7198.     9495.     7898.\n",
      "  6649.    10898.    16925.     7957.    14399.     7295.    13645.\n",
      " 18280.    16500.     6229.     8238.    10345.    19699.    11850.\n",
      " 11248.    36880.     9095.    12170.     6695.     7788.    37028.\n",
      "  7129.     8921.    17075.     6338.     6855.     9639.    34028.\n",
      " 15690.     5399.     8449.     7775.    22625.    10198.    12964.\n",
      "  8949.    12629.     9988.     7689.    16630.     8013.    16515.\n",
      " 35056.     6189.     6692.     9298.     8499.    19045.    10698.\n",
      " 12940.     8845.    15645.     7603.     9279.    31600.     9279.\n",
      "  7295.     5572.    17859.167 13499.    13415.    25552.    13845.\n",
      " 18150.    32250.    17669.   ]\n",
      "[ 6795.  15750.  15250.   5151.   9995.  11199.   5389.   7898.  17199.\n",
      "  6529.  20970.  31400.5 10945.  18344.   8916.5  9989.   9295.  18920.\n",
      "  7895.   6488.   9959.  15580.   9895.  11549.  15998.   5118.   6938.\n",
      " 16695.   8358.   5499.   7975.  12290.  22018.   8948.   6849.  41315.\n",
      " 11595.  18150.   6377.  45400.   8916.5 17450.  34184.  15040.  11259.\n",
      "  7609.   7609.  14869.  11694.   8495.  23875.   7099.   8058.  10595.\n",
      " 16503.  18399.  10795.  18420.   9960.   6229.   6479.  15510.  10295.\n",
      "  8495.  11845.  13499.   8189.   6295.   8778. ]\n"
     ]
    }
   ],
   "source": [
    "print(y_train)\n",
    "print(y_test)"
   ]
  },
  {
   "cell_type": "markdown",
   "id": "2b0dd3c1",
   "metadata": {},
   "source": [
    "## Training the model using Random Forest Regression"
   ]
  },
  {
   "cell_type": "code",
   "execution_count": 20,
   "id": "279e3490",
   "metadata": {},
   "outputs": [
    {
     "data": {
      "text/plain": [
       "RandomForestRegressor(n_estimators=300, random_state=0)"
      ]
     },
     "execution_count": 20,
     "metadata": {},
     "output_type": "execute_result"
    }
   ],
   "source": [
    "from sklearn.ensemble import RandomForestRegressor\n",
    "regressor = RandomForestRegressor(n_estimators = 300, random_state = 0)\n",
    "regressor.fit(x_train,y_train)"
   ]
  },
  {
   "cell_type": "markdown",
   "id": "7b7d880d",
   "metadata": {},
   "source": [
    "## Checking the accuracy of the model"
   ]
  },
  {
   "cell_type": "code",
   "execution_count": 21,
   "id": "34b3d038",
   "metadata": {},
   "outputs": [
    {
     "name": "stdout",
     "output_type": "stream",
     "text": [
      "90.39909650221148 %\n"
     ]
    }
   ],
   "source": [
    "accuracy = regressor.score(x_test,y_test)\n",
    "print(accuracy*100,'%')"
   ]
  },
  {
   "cell_type": "markdown",
   "id": "ffed9e7f",
   "metadata": {},
   "source": [
    "## Predicting the Price using new Data"
   ]
  },
  {
   "cell_type": "code",
   "execution_count": 22,
   "id": "692d3811",
   "metadata": {},
   "outputs": [],
   "source": [
    "new_data = ['gas','std','two','convertible','rwd','front',88.6,168.8,64.1,48.8,2548,'dohc','four',130,'mpfi',\n",
    "            3.47,2.68,9,111,5000,21,27]\n",
    "new_data[0] = lb_fueltype.transform([new_data[0]])\n",
    "new_data[1] = lb_aspiration.transform([new_data[1]])\n",
    "new_data[2] = lb_doornumber.transform([new_data[2]])\n",
    "new_data[3] = lb_carbody.transform([new_data[3]])\n",
    "new_data[4] = lb_drivewheel.transform([new_data[4]])\n",
    "new_data[5] = lb_enginelocation.transform([new_data[5]])\n",
    "new_data[11] = lb_enginetype.transform([new_data[11]])\n",
    "new_data[12] = lb_cylindernumber.transform([new_data[12]])\n",
    "new_data[14] = lb_fuelsystem.transform([new_data[14]])"
   ]
  },
  {
   "cell_type": "code",
   "execution_count": 23,
   "id": "c0656807",
   "metadata": {},
   "outputs": [
    {
     "name": "stdout",
     "output_type": "stream",
     "text": [
      "[array([1]), array([0]), array([1]), array([0]), array([2]), array([0]), 88.6, 168.8, 64.1, 48.8, 2548, array([0]), array([2]), 130, array([5]), 3.47, 2.68, 9, 111, 5000, 21, 27]\n"
     ]
    },
    {
     "data": {
      "text/plain": [
       "array([14433.45611111])"
      ]
     },
     "execution_count": 23,
     "metadata": {},
     "output_type": "execute_result"
    }
   ],
   "source": [
    "print(new_data)\n",
    "regressor.predict([new_data])"
   ]
  },
  {
   "cell_type": "code",
   "execution_count": null,
   "id": "a12195e5",
   "metadata": {},
   "outputs": [],
   "source": []
  }
 ],
 "metadata": {
  "kernelspec": {
   "display_name": "Python 3",
   "language": "python",
   "name": "python3"
  },
  "language_info": {
   "codemirror_mode": {
    "name": "ipython",
    "version": 3
   },
   "file_extension": ".py",
   "mimetype": "text/x-python",
   "name": "python",
   "nbconvert_exporter": "python",
   "pygments_lexer": "ipython3",
   "version": "3.8.8"
  }
 },
 "nbformat": 4,
 "nbformat_minor": 5
}
